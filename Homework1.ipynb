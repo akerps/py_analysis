{
 "cells": [
  {
   "cell_type": "markdown",
   "id": "37233275",
   "metadata": {},
   "source": [
    "## Задание 1\n",
    "\n",
    "Оформляйте ноутбук, используя эти советы:\n",
    "\n",
    "- Номер задачи - заголовок 2\n",
    "- Номер подзадачи - заголовок 3\n",
    "- Предоставленные наборы данных оформляйте, как код"
   ]
  },
  {
   "cell_type": "markdown",
   "id": "1040f133",
   "metadata": {},
   "source": [
    "## Задание 2\n",
    "\n",
    "На складе лежат разные фрукты в разном количестве.  \n",
    "Нужно написать функцию, которая на вход принимает любое количество названий фруктов и их количество, \n",
    "а возвращает общее количество фруктов на складе\n"
   ]
  },
  {
   "cell_type": "code",
   "execution_count": 1,
   "id": "d37d3ef1",
   "metadata": {},
   "outputs": [
    {
     "data": {
      "text/plain": [
       "28"
      ]
     },
     "execution_count": 1,
     "metadata": {},
     "output_type": "execute_result"
    }
   ],
   "source": [
    "def total_number(**fruit):\n",
    "    total = 0\n",
    "    for amount in fruit.values():\n",
    "        total += amount\n",
    "    return total\n",
    "\n",
    "total_number(apple=10, orange=7, banana=6, kiwi=5)    "
   ]
  },
  {
   "cell_type": "markdown",
   "id": "234869f7",
   "metadata": {},
   "source": [
    "## Задание 3\n",
    "\n",
    "Дан список с затратами на рекламу. Но в данных есть ошибки, некоторые затраты имеют отрицательную величину.  \n",
    "Удалите такие значения из списка и посчитайте суммарные затраты.  \n",
    "Используйте list comprehensions"
   ]
  },
  {
   "cell_type": "code",
   "execution_count": 2,
   "id": "e108211d",
   "metadata": {},
   "outputs": [],
   "source": [
    "expenses = [100, 125, -90, 345, 655, -1, 0, 200]"
   ]
  },
  {
   "cell_type": "code",
   "execution_count": 3,
   "id": "229c7dd4",
   "metadata": {},
   "outputs": [
    {
     "data": {
      "text/plain": [
       "1425"
      ]
     },
     "execution_count": 3,
     "metadata": {},
     "output_type": "execute_result"
    }
   ],
   "source": [
    "sum([i for i in expenses if i > 0])"
   ]
  },
  {
   "cell_type": "markdown",
   "id": "0b3e9e62",
   "metadata": {},
   "source": [
    "## Задание 4\n",
    "Даны два списка.\n",
    "\n",
    "Дата покупки:"
   ]
  },
  {
   "cell_type": "code",
   "execution_count": 5,
   "id": "b930f8c0",
   "metadata": {},
   "outputs": [],
   "source": [
    "dates = ['2021-09-14', '2021-12-15', '2021-09-08', '2021-12-05', '2021-10-09', \n",
    "         '2021-09-30', '2021-12-22', '2021-11-29', '2021-12-24', '2021-11-26', \n",
    "         '2021-10-27', '2021-12-18', '2021-11-09', '2021-11-23', '2021-09-27', \n",
    "         '2021-10-02', '2021-12-27', '2021-09-20', '2021-12-13', '2021-11-01', \n",
    "         '2021-11-09', '2021-12-06', '2021-12-08', '2021-10-09', '2021-10-31', \n",
    "         '2021-09-30', '2021-11-09', '2021-12-13', '2021-10-26', '2021-12-09']"
   ]
  },
  {
   "cell_type": "markdown",
   "id": "912f9e80",
   "metadata": {},
   "source": [
    "Суммы покупок по датам:"
   ]
  },
  {
   "cell_type": "code",
   "execution_count": 6,
   "id": "36d35082",
   "metadata": {},
   "outputs": [],
   "source": [
    "purch_amount = [1270, 8413, 9028, 3703, 5739, 4095, 295, 4944, 5723, 3701, 4471, \n",
    "                651, 7037, 4274, 6275, 4988, 6930, 2971, 6592, 2004, 2822, 519, \n",
    "                3406, 2732, 5015, 2008, 316, 6333, 5700, 2887]"
   ]
  },
  {
   "cell_type": "markdown",
   "id": "479dc016",
   "metadata": {},
   "source": [
    "### 4.1 Найдите, какая выручка у компании в ноябре  \n",
    "Используйте list comprehensions"
   ]
  },
  {
   "cell_type": "code",
   "execution_count": 7,
   "id": "a1ee9ad1",
   "metadata": {},
   "outputs": [
    {
     "data": {
      "text/plain": [
       "25098"
      ]
     },
     "execution_count": 7,
     "metadata": {},
     "output_type": "execute_result"
    }
   ],
   "source": [
    "sum([purch_amount[i] for i in range(len(dates)) if dates[i].split('-')[1] == '11'])"
   ]
  },
  {
   "cell_type": "markdown",
   "id": "ec638a8a",
   "metadata": {},
   "source": [
    "### 4.2 Найдите выручку компании в зависимости от месяца  \n",
    "Для этого напишите функцию, которая на вход принимает список с датами и список с выручкой, а на выходе словарь,  \n",
    "где ключи - это месяцы, а значения - это выручка.  \n",
    "Используйте аннотирование типов."
   ]
  },
  {
   "cell_type": "code",
   "execution_count": 8,
   "id": "f6ae4634",
   "metadata": {},
   "outputs": [
    {
     "data": {
      "text/plain": [
       "{'09': 25647, '12': 45452, '10': 28645, '11': 25098}"
      ]
     },
     "execution_count": 8,
     "metadata": {},
     "output_type": "execute_result"
    }
   ],
   "source": [
    "def calс_income(dates: list, income: list) -> dict:\n",
    "    incomes_dict = {}\n",
    "    \n",
    "    for i in range(len(dates)):\n",
    "        month = dates[i].split('-')[1]\n",
    "        if month in incomes_dict.keys():\n",
    "            incomes_dict[month] += income[i]\n",
    "        else:\n",
    "            incomes_dict[month] = income[i]\n",
    "            \n",
    "    return incomes_dict\n",
    "\n",
    "calс_income(dates, purch_amount)"
   ]
  }
 ],
 "metadata": {
  "kernelspec": {
   "display_name": "Python 3 (ipykernel)",
   "language": "python",
   "name": "python3"
  },
  "language_info": {
   "codemirror_mode": {
    "name": "ipython",
    "version": 3
   },
   "file_extension": ".py",
   "mimetype": "text/x-python",
   "name": "python",
   "nbconvert_exporter": "python",
   "pygments_lexer": "ipython3",
   "version": "3.9.13"
  }
 },
 "nbformat": 4,
 "nbformat_minor": 5
}
